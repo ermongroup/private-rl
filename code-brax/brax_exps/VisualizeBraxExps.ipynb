{
 "cells": [
  {
   "cell_type": "markdown",
   "metadata": {
    "id": "ssCOanHc8JH_"
   },
   "source": [
    "# Visualizing Experiments in Brax\n",
    "\n",
    "This notebook is adapted from https://github.com/google/brax/blob/main/notebooks/training.ipynb "
   ]
  },
  {
   "cell_type": "code",
   "execution_count": 2,
   "metadata": {
    "id": "_sOmCoOrF0F8"
   },
   "outputs": [],
   "source": [
    "from IPython.display import HTML, clear_output\n",
    "from IPython.display import Image, Video\n",
    "\n",
    "import numpy as np\n",
    "import jax\n",
    "import jax.numpy as jnp\n",
    "from jax import config\n",
    "import matplotlib.pyplot as plt\n",
    "import wandb\n",
    "import brax\n",
    "from brax import envs\n",
    "from brax import jumpy as jp\n",
    "from brax.io import html\n",
    "from brax.io import model\n",
    "from brax.training.acme import running_statistics\n",
    "\n",
    "from private_envs import multipusher, turningant, original_multipusher\n",
    "from ppo import networks as ppo_networks\n",
    "\n",
    "import brax_utils\n",
    "import predictor"
   ]
  },
  {
   "cell_type": "code",
   "execution_count": null,
   "metadata": {},
   "outputs": [],
   "source": [
    "wandb.init(mode=\"disabled\")\n",
    "# We use T=100 for all our experiments\n",
    "T = 100"
   ]
  },
  {
   "cell_type": "markdown",
   "metadata": {
    "id": "Tm8zbPBcJ5RJ"
   },
   "source": [
    "First let's pick an environment to train an agent:"
   ]
  },
  {
   "cell_type": "code",
   "execution_count": null,
   "metadata": {
    "colab": {
     "height": 480
    },
    "id": "NaJDZqhCLovU",
    "outputId": "00e83e90-6890-4ade-b3f3-40dec5dd7b71"
   },
   "outputs": [],
   "source": [
    "env_name = \"pusher\"\n",
    "if env_name == \"pusher\":\n",
    "    env = original_multipusher.MultiPusher(freeze_balls=True)\n",
    "else:\n",
    "    env = turningant.TurningAnt()\n",
    "print(env.action_size)\n",
    "print(env.observation_size)\n",
    "state = env.reset(rng=jp.random_prngkey(seed=3))\n",
    "\n",
    "# Uncomment to see the environment\n",
    "# HTML(html.render(env.sys, [state.qp]))"
   ]
  },
  {
   "cell_type": "markdown",
   "metadata": {
    "id": "FGPyeF8Jsj_M"
   },
   "source": [
    "The trainers return an inference function, parameters, and the final set of metrics gathered during evaluation.\n",
    "\n",
    "# Saving and Loading Policies\n",
    "\n",
    "Brax can save and load trained policies:"
   ]
  },
  {
   "cell_type": "code",
   "execution_count": null,
   "metadata": {},
   "outputs": [],
   "source": [
    "network_factory = ppo_networks.make_ppo_networks\n",
    "normalize = running_statistics.normalize\n",
    "ppo_network = network_factory(\n",
    "    env.observation_size, env.action_size, preprocess_observations_fn=normalize\n",
    ")\n",
    "\n",
    "flag = False # set to true if using \"constrained_ant\"\n",
    "if env_name == \"ant\" and flag == True:\n",
    "    layers = {\"policy_hidden_layer_sizes\": (64,) * 3, \"value_hidden_layer_sizes\": (64,) * 3}\n",
    "else:\n",
    "    layers = {\"policy_hidden_layer_sizes\": (32,) * 4, \"value_hidden_layer_sizes\": (256,) * 5}\n",
    "ppo_network = network_factory(\n",
    "    env.observation_size, env.action_size, preprocess_observations_fn=normalize, **layers\n",
    ")\n",
    "\n",
    "make_policy = ppo_networks.make_inference_fn(ppo_network)\n",
    "make_inference_fn = make_policy\n"
   ]
  },
  {
   "cell_type": "markdown",
   "metadata": {},
   "source": [
    "Load in desired parameters"
   ]
  },
  {
   "cell_type": "code",
   "execution_count": null,
   "metadata": {
    "id": "fgB52sgjDhvi"
   },
   "outputs": [],
   "source": [
    "params_path = 'params/constrained_pusher'\n",
    "params = model.load_params(params_path)\n",
    "inference_fn = make_inference_fn(params)"
   ]
  },
  {
   "cell_type": "markdown",
   "metadata": {
    "id": "uUs9hbUKIH71"
   },
   "source": [
    "# Visualizing a Policy's Behavior\n",
    "\n",
    "We can use the policy to generate a rollout for visualization:"
   ]
  },
  {
   "cell_type": "code",
   "execution_count": null,
   "metadata": {
    "colab": {
     "height": 480
    },
    "id": "RNMLEyaTspEM",
    "outputId": "c865db96-a64a-4fe1-f7a0-2765e9222609"
   },
   "outputs": [],
   "source": [
    "#@title Visualizing a trajectory of the learned inference function\n",
    "\n",
    "# create an env with auto-reset\n",
    "jit_env_reset = jax.jit(env.reset)\n",
    "jit_env_step = jax.jit(env.step)\n",
    "jit_inference_fn = jax.jit(inference_fn)\n",
    "\n",
    "rollout = []\n",
    "rng = jax.random.PRNGKey(seed=1)\n",
    "state = jit_env_reset(rng=rng)\n",
    "\n",
    "for _ in range(T):\n",
    "    rollout.append(state)\n",
    "    act_rng, rng = jax.random.split(rng)\n",
    "    act, _ = jit_inference_fn(state.obs, act_rng)\n",
    "    state = jit_env_step(state, act)\n",
    "\n",
    "# The blue ball position is the hidden state, i.e., down is u=0 and up is u=1\n",
    "HTML(html.render(env.sys, [s.qp for s in rollout]))"
   ]
  },
  {
   "cell_type": "markdown",
   "metadata": {},
   "source": [
    "## Compute the full-trajectory MI of a model"
   ]
  },
  {
   "cell_type": "code",
   "execution_count": null,
   "metadata": {},
   "outputs": [],
   "source": [
    "# Set some hyperparameters\n",
    "predictor.SEQUENCE_LENGTH = T\n",
    "predictor.VOCAB_SIZE = env.action_size\n",
    "predictor.env = env\n",
    "\n",
    "# TRANSFORMER ARGS\n",
    "transformer_config = {\n",
    "    \"vocab_size\": predictor.VOCAB_SIZE,\n",
    "    \"output_vocab_size\": predictor.OUTPUT_VOCAB_SIZE,\n",
    "    \"emb_dim\": predictor.EMB_SIZE,\n",
    "    \"num_heads\": predictor.NUM_HEADS,\n",
    "    \"qkv_dim\": predictor.EMB_SIZE,\n",
    "    \"mlp_dim\": predictor.EMB_SIZE,\n",
    "    \"num_layers\": predictor.NUM_LAYERS,\n",
    "    \"max_len\": predictor.SEQUENCE_LENGTH,\n",
    "    \"kernel_init\": predictor.w_init,\n",
    "    \"logits_via_embedding\": False,\n",
    "}\n",
    "\n",
    "predictor.full_trajectory_MI(params_path, seed=0, model_config=transformer_config, layers={})"
   ]
  },
  {
   "cell_type": "markdown",
   "metadata": {},
   "source": [
    "## Save videos and frames of a model's rollouts"
   ]
  },
  {
   "cell_type": "code",
   "execution_count": null,
   "metadata": {
    "scrolled": true
   },
   "outputs": [],
   "source": [
    "brax_utils.make_video(params, make_inference_fn, env, T=100, flip_camera=env_name != 'ant', curr_seed=4, n_seeds=1,\n",
    "                      width=800, height=600, save_frames=[57],\n",
    "                      frame_name='pusher_constrained_u=0', video_name='pusher_constrained_u=0.mp4'\n",
    ")\n",
    "\n",
    "brax_utils.make_video(params, make_inference_fn, env, T=100, flip_camera=env_name != 'ant', curr_seed=1, n_seeds=1,\n",
    "                      hfov=50, width=1600, height=1200, save_frames=[],\n",
    "                      frame_name='ant_constrained_u=1', video_name='ant_constrained_u=1.mp4'\n",
    ")"
   ]
  },
  {
   "cell_type": "code",
   "execution_count": null,
   "metadata": {
    "scrolled": false
   },
   "outputs": [],
   "source": [
    "Video(\"videos/pusher_constrained_u=0.mp4\")"
   ]
  },
  {
   "cell_type": "code",
   "execution_count": null,
   "metadata": {
    "scrolled": false
   },
   "outputs": [],
   "source": [
    "Image('frames/pusher_constrained_u=0_frame_57.png')"
   ]
  },
  {
   "cell_type": "code",
   "execution_count": null,
   "metadata": {},
   "outputs": [],
   "source": []
  }
 ],
 "metadata": {
  "accelerator": "TPU",
  "colab": {
   "collapsed_sections": [],
   "name": "Brax Training.ipynb",
   "provenance": []
  },
  "kernelspec": {
   "display_name": "Python [conda env:muj]",
   "language": "python",
   "name": "conda-env-muj-py"
  },
  "language_info": {
   "codemirror_mode": {
    "name": "ipython",
    "version": 3
   },
   "file_extension": ".py",
   "mimetype": "text/x-python",
   "name": "python",
   "nbconvert_exporter": "python",
   "pygments_lexer": "ipython3",
   "version": "3.8.12"
  }
 },
 "nbformat": 4,
 "nbformat_minor": 1
}
